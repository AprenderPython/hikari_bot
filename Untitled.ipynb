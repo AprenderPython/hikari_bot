{
 "cells": [
  {
   "cell_type": "code",
   "execution_count": 1,
   "id": "south-bahrain",
   "metadata": {},
   "outputs": [],
   "source": [
    "import gspread\n",
    "import pandas"
   ]
  },
  {
   "cell_type": "code",
   "execution_count": 2,
   "id": "automated-latino",
   "metadata": {},
   "outputs": [],
   "source": [
    "gc = gspread.service_account(\"bot-telegram-302121-9269276f665c.json\")"
   ]
  },
  {
   "cell_type": "code",
   "execution_count": 3,
   "id": "proud-tractor",
   "metadata": {},
   "outputs": [],
   "source": [
    "wks = gc.open_by_key('1W4dxhCViCFgArafr1uuHSsutHIwFGscgwBORJidZ0Qk')"
   ]
  },
  {
   "cell_type": "code",
   "execution_count": 8,
   "id": "future-empire",
   "metadata": {},
   "outputs": [],
   "source": [
    "wks = gc.open_by_key('17LChMVFNgyQnAyodf1bHROlyA7x8GSHMV9l8sMhZokk')"
   ]
  },
  {
   "cell_type": "code",
   "execution_count": 4,
   "id": "sophisticated-chapel",
   "metadata": {},
   "outputs": [
    {
     "data": {
      "text/plain": [
       "<Spreadsheet 'BD:Programas' id:1W4dxhCViCFgArafr1uuHSsutHIwFGscgwBORJidZ0Qk>"
      ]
     },
     "execution_count": 4,
     "metadata": {},
     "output_type": "execute_result"
    }
   ],
   "source": [
    "wks"
   ]
  },
  {
   "cell_type": "code",
   "execution_count": 5,
   "id": "weekly-metallic",
   "metadata": {},
   "outputs": [],
   "source": [
    "worksheet = wks.get_worksheet(0)"
   ]
  },
  {
   "cell_type": "code",
   "execution_count": 7,
   "id": "induced-morocco",
   "metadata": {},
   "outputs": [],
   "source": [
    "dataframe = pandas.DataFrame(worksheet.get_all_values())"
   ]
  },
  {
   "cell_type": "code",
   "execution_count": 8,
   "id": "experienced-cooperation",
   "metadata": {},
   "outputs": [
    {
     "data": {
      "text/html": [
       "<div>\n",
       "<style scoped>\n",
       "    .dataframe tbody tr th:only-of-type {\n",
       "        vertical-align: middle;\n",
       "    }\n",
       "\n",
       "    .dataframe tbody tr th {\n",
       "        vertical-align: top;\n",
       "    }\n",
       "\n",
       "    .dataframe thead th {\n",
       "        text-align: right;\n",
       "    }\n",
       "</style>\n",
       "<table border=\"1\" class=\"dataframe\">\n",
       "  <thead>\n",
       "    <tr style=\"text-align: right;\">\n",
       "      <th></th>\n",
       "      <th>0</th>\n",
       "      <th>1</th>\n",
       "      <th>2</th>\n",
       "      <th>3</th>\n",
       "      <th>4</th>\n",
       "    </tr>\n",
       "  </thead>\n",
       "  <tbody>\n",
       "    <tr>\n",
       "      <th>0</th>\n",
       "      <td>Ranking</td>\n",
       "      <td></td>\n",
       "      <td></td>\n",
       "      <td></td>\n",
       "      <td></td>\n",
       "    </tr>\n",
       "    <tr>\n",
       "      <th>1</th>\n",
       "      <td></td>\n",
       "      <td></td>\n",
       "      <td></td>\n",
       "      <td></td>\n",
       "      <td></td>\n",
       "    </tr>\n",
       "    <tr>\n",
       "      <th>2</th>\n",
       "      <td>Nombre</td>\n",
       "      <td>nick</td>\n",
       "      <td>id</td>\n",
       "      <td>Puntos Acumulados</td>\n",
       "      <td>Programas completados</td>\n",
       "    </tr>\n",
       "    <tr>\n",
       "      <th>3</th>\n",
       "      <td>josé ángel</td>\n",
       "      <td>@jabaselga</td>\n",
       "      <td>136839859</td>\n",
       "      <td>1</td>\n",
       "      <td>1, 2, 6, 8</td>\n",
       "    </tr>\n",
       "    <tr>\n",
       "      <th>4</th>\n",
       "      <td>Stary Dark</td>\n",
       "      <td>@Dark_zly</td>\n",
       "      <td>379473597</td>\n",
       "      <td>7</td>\n",
       "      <td></td>\n",
       "    </tr>\n",
       "    <tr>\n",
       "      <th>5</th>\n",
       "      <td>Ecotracker Uss</td>\n",
       "      <td>@ecotracker</td>\n",
       "      <td>1179536465</td>\n",
       "      <td>96</td>\n",
       "      <td></td>\n",
       "    </tr>\n",
       "    <tr>\n",
       "      <th>6</th>\n",
       "      <td>Daniel Castillo</td>\n",
       "      <td>@dlcastillop</td>\n",
       "      <td>904756673</td>\n",
       "      <td>12</td>\n",
       "      <td></td>\n",
       "    </tr>\n",
       "    <tr>\n",
       "      <th>7</th>\n",
       "      <td>Raúl</td>\n",
       "      <td>@spleyades</td>\n",
       "      <td>543955459</td>\n",
       "      <td>13</td>\n",
       "      <td></td>\n",
       "    </tr>\n",
       "    <tr>\n",
       "      <th>8</th>\n",
       "      <td>Ichigo Kurozaki</td>\n",
       "      <td>@BlackShinigami00</td>\n",
       "      <td>842688072</td>\n",
       "      <td>73</td>\n",
       "      <td></td>\n",
       "    </tr>\n",
       "    <tr>\n",
       "      <th>9</th>\n",
       "      <td>AN0N1MAT0</td>\n",
       "      <td>@SR_4N0N666</td>\n",
       "      <td>186992902</td>\n",
       "      <td>44</td>\n",
       "      <td></td>\n",
       "    </tr>\n",
       "    <tr>\n",
       "      <th>10</th>\n",
       "      <td>True Ornot</td>\n",
       "      <td>@Trueless</td>\n",
       "      <td>521170501</td>\n",
       "      <td>9</td>\n",
       "      <td></td>\n",
       "    </tr>\n",
       "  </tbody>\n",
       "</table>\n",
       "</div>"
      ],
      "text/plain": [
       "                  0                  1           2                  3  \\\n",
       "0           Ranking                                                     \n",
       "1                                                                       \n",
       "2            Nombre               nick          id  Puntos Acumulados   \n",
       "3        josé ángel         @jabaselga   136839859                  1   \n",
       "4        Stary Dark          @Dark_zly   379473597                  7   \n",
       "5    Ecotracker Uss        @ecotracker  1179536465                 96   \n",
       "6   Daniel Castillo       @dlcastillop   904756673                 12   \n",
       "7              Raúl         @spleyades   543955459                 13   \n",
       "8   Ichigo Kurozaki  @BlackShinigami00   842688072                 73   \n",
       "9         AN0N1MAT0        @SR_4N0N666   186992902                 44   \n",
       "10       True Ornot          @Trueless   521170501                  9   \n",
       "\n",
       "                        4  \n",
       "0                          \n",
       "1                          \n",
       "2   Programas completados  \n",
       "3              1, 2, 6, 8  \n",
       "4                          \n",
       "5                          \n",
       "6                          \n",
       "7                          \n",
       "8                          \n",
       "9                          \n",
       "10                         "
      ]
     },
     "execution_count": 8,
     "metadata": {},
     "output_type": "execute_result"
    }
   ],
   "source": [
    "dataframe"
   ]
  },
  {
   "cell_type": "code",
   "execution_count": 9,
   "id": "chinese-journalist",
   "metadata": {},
   "outputs": [],
   "source": [
    "data = worksheet.get_all_values()\n",
    "del data[0:2]"
   ]
  },
  {
   "cell_type": "code",
   "execution_count": 10,
   "id": "requested-burns",
   "metadata": {},
   "outputs": [
    {
     "data": {
      "text/plain": [
       "[['Nombre', 'nick', 'id', 'Puntos Acumulados', 'Programas completados'],\n",
       " ['josé ángel', '@jabaselga', '136839859', '1', '1, 2, 6, 8'],\n",
       " ['Stary Dark', '@Dark_zly', '379473597', '7', ''],\n",
       " ['Ecotracker Uss', '@ecotracker', '1179536465', '96', ''],\n",
       " ['Daniel Castillo', '@dlcastillop', '904756673', '12', ''],\n",
       " ['Raúl', '@spleyades', '543955459', '13', ''],\n",
       " ['Ichigo Kurozaki', '@BlackShinigami00', '842688072', '73', ''],\n",
       " ['AN0N1MAT0', '@SR_4N0N666', '186992902', '44', ''],\n",
       " ['True Ornot', '@Trueless', '521170501', '9', '']]"
      ]
     },
     "execution_count": 10,
     "metadata": {},
     "output_type": "execute_result"
    }
   ],
   "source": [
    "data"
   ]
  },
  {
   "cell_type": "code",
   "execution_count": 113,
   "id": "decent-attack",
   "metadata": {},
   "outputs": [],
   "source": [
    "headers = data.pop(0)"
   ]
  },
  {
   "cell_type": "code",
   "execution_count": 114,
   "id": "dirty-friend",
   "metadata": {},
   "outputs": [],
   "source": [
    "\n",
    "df = pd.DataFrame(data, columns=headers)"
   ]
  },
  {
   "cell_type": "code",
   "execution_count": 132,
   "id": "suspended-yellow",
   "metadata": {},
   "outputs": [],
   "source": [
    "df['Puntos Acumulados'] = df['Puntos Acumulados'].astype(int)"
   ]
  },
  {
   "cell_type": "code",
   "execution_count": 133,
   "id": "genetic-fountain",
   "metadata": {},
   "outputs": [
    {
     "data": {
      "text/html": [
       "<div>\n",
       "<style scoped>\n",
       "    .dataframe tbody tr th:only-of-type {\n",
       "        vertical-align: middle;\n",
       "    }\n",
       "\n",
       "    .dataframe tbody tr th {\n",
       "        vertical-align: top;\n",
       "    }\n",
       "\n",
       "    .dataframe thead th {\n",
       "        text-align: right;\n",
       "    }\n",
       "</style>\n",
       "<table border=\"1\" class=\"dataframe\">\n",
       "  <thead>\n",
       "    <tr style=\"text-align: right;\">\n",
       "      <th></th>\n",
       "      <th>Nombre</th>\n",
       "      <th>Puntos Acumulados</th>\n",
       "    </tr>\n",
       "  </thead>\n",
       "  <tbody>\n",
       "    <tr>\n",
       "      <th>0</th>\n",
       "      <td>josé ángel</td>\n",
       "      <td>1</td>\n",
       "    </tr>\n",
       "    <tr>\n",
       "      <th>1</th>\n",
       "      <td>Stary Dark</td>\n",
       "      <td>7</td>\n",
       "    </tr>\n",
       "    <tr>\n",
       "      <th>2</th>\n",
       "      <td>Ecotracker Uss</td>\n",
       "      <td>96</td>\n",
       "    </tr>\n",
       "    <tr>\n",
       "      <th>3</th>\n",
       "      <td>Daniel Castillo</td>\n",
       "      <td>12</td>\n",
       "    </tr>\n",
       "    <tr>\n",
       "      <th>4</th>\n",
       "      <td>Raúl</td>\n",
       "      <td>13</td>\n",
       "    </tr>\n",
       "    <tr>\n",
       "      <th>5</th>\n",
       "      <td>Ichigo Kurozaki</td>\n",
       "      <td>73</td>\n",
       "    </tr>\n",
       "    <tr>\n",
       "      <th>6</th>\n",
       "      <td>AN0N1MAT0</td>\n",
       "      <td>44</td>\n",
       "    </tr>\n",
       "    <tr>\n",
       "      <th>7</th>\n",
       "      <td>True Ornot</td>\n",
       "      <td>9</td>\n",
       "    </tr>\n",
       "  </tbody>\n",
       "</table>\n",
       "</div>"
      ],
      "text/plain": [
       "            Nombre  Puntos Acumulados\n",
       "0       josé ángel                  1\n",
       "1       Stary Dark                  7\n",
       "2   Ecotracker Uss                 96\n",
       "3  Daniel Castillo                 12\n",
       "4             Raúl                 13\n",
       "5  Ichigo Kurozaki                 73\n",
       "6        AN0N1MAT0                 44\n",
       "7       True Ornot                  9"
      ]
     },
     "execution_count": 133,
     "metadata": {},
     "output_type": "execute_result"
    }
   ],
   "source": [
    "df[[\"Nombre\",\"Puntos Acumulados\"]]"
   ]
  },
  {
   "cell_type": "code",
   "execution_count": 135,
   "id": "cutting-greensboro",
   "metadata": {},
   "outputs": [
    {
     "data": {
      "text/html": [
       "<div>\n",
       "<style scoped>\n",
       "    .dataframe tbody tr th:only-of-type {\n",
       "        vertical-align: middle;\n",
       "    }\n",
       "\n",
       "    .dataframe tbody tr th {\n",
       "        vertical-align: top;\n",
       "    }\n",
       "\n",
       "    .dataframe thead th {\n",
       "        text-align: right;\n",
       "    }\n",
       "</style>\n",
       "<table border=\"1\" class=\"dataframe\">\n",
       "  <thead>\n",
       "    <tr style=\"text-align: right;\">\n",
       "      <th></th>\n",
       "      <th>Nombre</th>\n",
       "      <th>Puntos Acumulados</th>\n",
       "    </tr>\n",
       "  </thead>\n",
       "  <tbody>\n",
       "    <tr>\n",
       "      <th>2</th>\n",
       "      <td>Ecotracker Uss</td>\n",
       "      <td>96</td>\n",
       "    </tr>\n",
       "    <tr>\n",
       "      <th>5</th>\n",
       "      <td>Ichigo Kurozaki</td>\n",
       "      <td>73</td>\n",
       "    </tr>\n",
       "    <tr>\n",
       "      <th>6</th>\n",
       "      <td>AN0N1MAT0</td>\n",
       "      <td>44</td>\n",
       "    </tr>\n",
       "    <tr>\n",
       "      <th>4</th>\n",
       "      <td>Raúl</td>\n",
       "      <td>13</td>\n",
       "    </tr>\n",
       "    <tr>\n",
       "      <th>3</th>\n",
       "      <td>Daniel Castillo</td>\n",
       "      <td>12</td>\n",
       "    </tr>\n",
       "    <tr>\n",
       "      <th>7</th>\n",
       "      <td>True Ornot</td>\n",
       "      <td>9</td>\n",
       "    </tr>\n",
       "    <tr>\n",
       "      <th>1</th>\n",
       "      <td>Stary Dark</td>\n",
       "      <td>7</td>\n",
       "    </tr>\n",
       "    <tr>\n",
       "      <th>0</th>\n",
       "      <td>josé ángel</td>\n",
       "      <td>1</td>\n",
       "    </tr>\n",
       "  </tbody>\n",
       "</table>\n",
       "</div>"
      ],
      "text/plain": [
       "            Nombre  Puntos Acumulados\n",
       "2   Ecotracker Uss                 96\n",
       "5  Ichigo Kurozaki                 73\n",
       "6        AN0N1MAT0                 44\n",
       "4             Raúl                 13\n",
       "3  Daniel Castillo                 12\n",
       "7       True Ornot                  9\n",
       "1       Stary Dark                  7\n",
       "0       josé ángel                  1"
      ]
     },
     "execution_count": 135,
     "metadata": {},
     "output_type": "execute_result"
    }
   ],
   "source": [
    "df.sort_values([\"Puntos Acumulados\"], ascending=False)[[\"Nombre\",\"Puntos Acumulados\"]]"
   ]
  },
  {
   "cell_type": "code",
   "execution_count": null,
   "id": "incorporated-climate",
   "metadata": {},
   "outputs": [],
   "source": []
  }
 ],
 "metadata": {
  "kernelspec": {
   "display_name": "Python 3",
   "language": "python",
   "name": "python3"
  },
  "language_info": {
   "codemirror_mode": {
    "name": "ipython",
    "version": 3
   },
   "file_extension": ".py",
   "mimetype": "text/x-python",
   "name": "python",
   "nbconvert_exporter": "python",
   "pygments_lexer": "ipython3",
   "version": "3.9.1"
  }
 },
 "nbformat": 4,
 "nbformat_minor": 5
}
